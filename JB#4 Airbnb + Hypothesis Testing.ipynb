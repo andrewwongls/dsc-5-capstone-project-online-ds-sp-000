{
 "cells": [
  {
   "attachments": {},
   "cell_type": "markdown",
   "metadata": {},
   "source": [
    "![JB%204.JPG](https://raw.githubusercontent.com/andrewwongls/dsc-5-capstone-project-online-ds-sp-000/master/JB%204.JPG)"
   ]
  },
  {
   "attachments": {},
   "cell_type": "markdown",
   "metadata": {},
   "source": [
    "![Introduction.jpg](https://raw.githubusercontent.com/andrewwongls/dsc-5-capstone-project-online-ds-sp-000/master/Introduction.jpg)"
   ]
  },
  {
   "cell_type": "markdown",
   "metadata": {},
   "source": [
    "### About Airbnb\n",
    "\n",
    "Together with Uber, the word Airbnb is synonymous with the sharing economy. Airbnb is the most global online hospitality service that connects travelers with lodging from local homeowners. It is a marketplace for individuals to book or offer rooms. With services across numerous cities across the globe, Airbnb contains massive amounts of data on thousands of listings per region. There are unique listings in 81,000 cities, with over 6 million listings, in over 191 Countries."
   ]
  },
  {
   "cell_type": "markdown",
   "metadata": {},
   "source": [
    "This jupyter notebook project attempts to experiment and focus on the behavioural sciences of nudging and sentiment analysis. I am starting with the point of adventuring into the unknown: colliding behavioural science and data science. There could be no significant outcome; however I gut feel say there will be some (yeah, we are still human, gut feel sometimes still help, rather than base on pure data decision-making!). \n",
    "\n",
    "**The Key Objective of this Jupyter Notebook Project:**\n",
    "To run hypothesis testing exercise on Airbnb customer reviews with the following hypotheses:\n",
    "\n",
    "1. Hypothesis Test 1 Numbers of Reviews Per Month and High Airbnb Rating Given to Host.\n",
    "\n",
    "2. Hypothesis Test 2 High Amenities Numbers and High Airbnb Rating Given to Host.\n",
    "\n",
    "3. Hypothesis Test 3 Host is a Superhost and High Airbnb Rating Given to Host.\n"
   ]
  },
  {
   "cell_type": "markdown",
   "metadata": {},
   "source": [
    "### AIRBNB REVIEWS - FEEDBACK LOOP (AND OVERLOAD!)"
   ]
  },
  {
   "cell_type": "markdown",
   "metadata": {},
   "source": [
    "**REVIEWS**\n",
    "\n",
    "There are different types of Airbnb reviews that Airbnb guests can leave.\n",
    "\n",
    "**1. Public reviews** - These reviews are visible to everyone in the community.\n",
    "\n",
    "**2. Private reviews** - These are private messages a host.\n",
    "\n",
    "**3. Group reviews** - These are public review that appears on the profiles of all of the guests on the reservation. There are no group reviews for Airbnb hosts.\n",
    "\n",
    "**4. Cancellation reviews** - If you cancel a reservation as a host, an automated review will be posted to your profile. These reviews are one of the host cancellation penalties and cannot be removed. But you, as a host, can write a public response to clarify why you needed to cancel.\n",
    "\n",
    "**5. Star ratings (reviews)** - These are quantitative ratings for hosts from 1 (worst) to 5 (best) for the overall experience and for specific categories, including: \n",
    "    \n",
    "    a. Overall experience\n",
    "    \n",
    "    b. Accuracy\n",
    "    \n",
    "    c. Cleanliness\n",
    "    \n",
    "    d. Check-in\n",
    "    \n",
    "    e. Communications\n",
    "    \n",
    "    f. Location\n",
    "    \n",
    "    g. Values\n",
    "\n",
    "Getting 3 star ratings or more will get a host rating appears on his/her listing or profile."
   ]
  },
  {
   "cell_type": "markdown",
   "metadata": {},
   "source": [
    "### TOP 3 INFLUENTIAL / PREDICTORS OF OVERALL GOOD RATING"
   ]
  },
  {
   "cell_type": "markdown",
   "metadata": {},
   "source": [
    "![InfluentialFactors.jpg](https://raw.githubusercontent.com/andrewwongls/dsc-5-capstone-project-online-ds-sp-000/master/Influential%20Factors%20-%20Rating.JPG)\n",
    "\n",
    "Based on earlier predictive modeling (refer to JB#$ Airbnb + Predictive Modelling; Random Forest Analysis), we know that the top 3 influential / predictors of overall good rating reviews are as follow:\n",
    "\n",
    "**1. Number of reviews per month**\n",
    "\n",
    "**2. Whether the host is a super-host**\n",
    "\n",
    "Airbnb’s Superhost program recognizes hosts who go above and beyond for every guest. Superhosts enjoy increased visibility in search results on Airbnb, exclusive perks, insider access, and an expanded set of business tools for hosting.\n",
    "\n",
    "The current criteria for achieving Superhost status is as follows:\n",
    "\n",
    "a. Achieve a 4.8 overall rating or higher;\n",
    "b. Respond within 24 hours at least 90 percent of the time;\n",
    "c. Have no cancellations and honor every reservation (unless there is an extenuating circumstance).\n",
    "d. Host at least 10 stays a year;\n",
    "\n",
    "**3. The number of amenities (or valuable amenities) in the host's home**\n",
    "\n",
    "Based on the Airbnb article (Amenities Do Matter: Airbnb Reveals Which Amenities Travelers Value Most), 97 percent of US travelers surveyed say amenities impact their travel experience.\n",
    "\n",
    "*Functionality first* \n",
    "\n",
    "As for the most important traits travelers look for in an amenity? The majority of the countries surveyed rate functionality first, like a coffee maker or a full set of wine glasses, with strong showings in Australia (57%), China (46%) and the US (43%), and thoughtfulness second, like a bottle of wine, a bicycle to get around town, or a beach bag already packed with everything needed for a day in the sun.\n",
    "\n",
    "*Comfort over connectivity*\n",
    "\n",
    "In today’s world of being constantly connected, it was a surprise to find modern vacationers value comfort over connectivity, with the majority of those surveyed in the US (59%), Australia (46%) and Italy (39%) citing air conditioning as one of the most important indoor amenities over Internet/WIFI and full kitchens.\n",
    "\n",
    "\n",
    "*Pools, parking, pets*\n",
    "\n",
    "Everyone loves the luxury and look of a beautiful pool, but perks like free parking, and pet-friendly rise to the top too. The majority of countries surveyed rated pools a top amenity but people in the US, Australia and Canada prefer free parking. And pet-loving travelers appreciate the ability to bring along their most trusted companions with 29% prioritizing pet-friendly as an important amenity."
   ]
  },
  {
   "cell_type": "markdown",
   "metadata": {},
   "source": [
    "# THE SCIENCE OF CUSTOMERS REVIEW"
   ]
  },
  {
   "cell_type": "markdown",
   "metadata": {},
   "source": [
    "Location! Location! Location! This is a common, ground truth about buying a great place to call home. \n",
    "\n",
    "Reviews! Reviews! Reviews! This is an increasing common, ground truth for most (if not all) social/sharing/e-commerce platforms like Airbnb, Tripadvisor, etc., where reviews create opportunities and challenges. \n",
    "\n",
    "If a home gets great customer reviews (at Airbnb site), the chances are this particular home will be fully occupied most of the year (or Airbnb called it a rare find). This is the new social capital or reputation capital. I believe there is value in reviews; potentially we can place a monetary value into reviews (this will be a good research musing!). Here are some of the equations that I found scraping the web so far. \n",
    "\n",
    "Good reviews = Higher reputation/ trust of your product/ service.\n",
    "\n",
    "Good reviews = Drive more business\n",
    "\n",
    "Good reviews = Shape your business models e.g. free risk purchase, partnership opportunity with bigger brand. \n",
    "\n",
    "Good reviews = Increasing purchase decision-making speed\n",
    "\n",
    "Good reviews = Create an ever increasing spiral of good reviews.\n",
    "\n",
    "Good reviews = Inspired confidence\n",
    "\n",
    "Good reviews = Less selling\n",
    "\n",
    "Good reviews = Changes others initial perception \n",
    "\n",
    "Good reviews = Higher trust factor than own marketing machine\n",
    "\n",
    "Good reviews = A very high reviews (customers expect to find the best of the best deal/experience or they will switch)\n",
    "\n",
    "Good reviews = A trend-line of more positives than negatives (its a two-way streets like Uber, Airbnb - both host and guest can rate each other)\n",
    "\n",
    "Good reviews = A trend-line of being interactive, a dialogue between host and guest.\n",
    "\n",
    "Good reviews = Creates a feel good factor, even for those who give out reviews (hey, I am making a difference!)\n",
    "\n",
    "\n",
    "\n",
    "\n",
    "\n",
    "\n",
    "\n",
    "\n"
   ]
  },
  {
   "cell_type": "markdown",
   "metadata": {},
   "source": [
    "### IMPORTING LIBRARIES"
   ]
  },
  {
   "cell_type": "code",
   "execution_count": 1,
   "metadata": {},
   "outputs": [
    {
     "data": {
      "text/html": [
       "        <script type=\"text/javascript\">\n",
       "        window.PlotlyConfig = {MathJaxConfig: 'local'};\n",
       "        if (window.MathJax) {MathJax.Hub.Config({SVG: {font: \"STIX-Web\"}});}\n",
       "        if (typeof require !== 'undefined') {\n",
       "        require.undef(\"plotly\");\n",
       "        requirejs.config({\n",
       "            paths: {\n",
       "                'plotly': ['https://cdn.plot.ly/plotly-latest.min']\n",
       "            }\n",
       "        });\n",
       "        require(['plotly'], function(Plotly) {\n",
       "            window._Plotly = Plotly;\n",
       "        });\n",
       "        }\n",
       "        </script>\n",
       "        "
      ]
     },
     "metadata": {},
     "output_type": "display_data"
    },
    {
     "name": "stderr",
     "output_type": "stream",
     "text": [
      "Using TensorFlow backend.\n"
     ]
    },
    {
     "name": "stdout",
     "output_type": "stream",
     "text": [
      "['bmh', 'classic', 'dark_background', 'fast', 'fivethirtyeight', 'ggplot', 'grayscale', 'seaborn-bright', 'seaborn-colorblind', 'seaborn-dark-palette', 'seaborn-dark', 'seaborn-darkgrid', 'seaborn-deep', 'seaborn-muted', 'seaborn-notebook', 'seaborn-paper', 'seaborn-pastel', 'seaborn-poster', 'seaborn-talk', 'seaborn-ticks', 'seaborn-white', 'seaborn-whitegrid', 'seaborn', 'Solarize_Light2', 'tableau-colorblind10', '_classic_test']\n"
     ]
    }
   ],
   "source": [
    "# importing necessary libraries\n",
    "\n",
    "import pandas as pd\n",
    "from pandas.tools import plotting\n",
    "import numpy as np\n",
    "import matplotlib.pyplot as plt\n",
    "import matplotlib as mpl\n",
    "from collections import Counter\n",
    "import plotly.graph_objs as go\n",
    "from plotly import tools\n",
    "from plotly.offline import init_notebook_mode, plot, iplot\n",
    "import seaborn as sns\n",
    "import xgboost as xgb\n",
    "from datetime import datetime\n",
    "import warnings\n",
    "warnings.filterwarnings(action='ignore')\n",
    "\n",
    "%matplotlib inline\n",
    "plt.style.use('seaborn')\n",
    "mpl.style.use('ggplot')\n",
    "sns.set(style='whitegrid')\n",
    "\n",
    "# importing map visulization libraries\n",
    "from plotly.offline import download_plotlyjs, init_notebook_mode, plot, iplot\n",
    "init_notebook_mode(connected=True)\n",
    "from geopy.distance import vincenty\n",
    "\n",
    "# importing Sci-kit Learn libraries\n",
    "from sklearn import svm\n",
    "from sklearn.model_selection import train_test_split, cross_val_score, KFold\n",
    "from sklearn.model_selection import RandomizedSearchCV, GridSearchCV\n",
    "from sklearn.decomposition import PCA\n",
    "from sklearn.preprocessing import StandardScaler, MinMaxScaler, Imputer, OneHotEncoder, LabelEncoder\n",
    "from sklearn.pipeline import Pipeline, make_pipeline, FeatureUnion\n",
    "from sklearn.base import BaseEstimator, TransformerMixin\n",
    "from sklearn.metrics import classification_report, accuracy_score, roc_curve, confusion_matrix, precision_score, recall_score, f1_score\n",
    "from sklearn.impute import SimpleImputer\n",
    "from sklearn import preprocessing\n",
    "\n",
    "# importing Natural Language Toolkits\n",
    "import nltk\n",
    "from nltk.sentiment.vader import SentimentIntensityAnalyzer\n",
    "\n",
    "# importing Sci-py libraries\n",
    "from scipy.stats import ttest_ind\n",
    "\n",
    "# importing statsmodels to perform statistical analysis\n",
    "import statsmodels.api as sm\n",
    "from scipy import stats\n",
    "from scipy.stats import chi2_contingency\n",
    "from scipy.stats import chisquare\n",
    "from statsmodels.formula.api import ols\n",
    "\n",
    "# importing Predictive Analytics/ Machine Learning libraries\n",
    "from xgboost import XGBClassifier\n",
    "from imblearn.over_sampling import SMOTE\n",
    "from sklearn.linear_model import LogisticRegression, SGDClassifier\n",
    "from sklearn.ensemble import RandomForestClassifier, AdaBoostClassifier, GradientBoostingClassifier\n",
    "from sklearn.naive_bayes import GaussianNB\n",
    "import tensorflow\n",
    "from keras.models import Sequential\n",
    "from keras.layers import Dense, Dropout\n",
    "from keras import regularizers\n",
    "\n",
    "\n",
    "# for oversampling library (dealing with Imbalanced Datasets)\n",
    "from collections import Counter\n",
    "\n",
    "# other libraries\n",
    "import time\n",
    "\n",
    "# printing style available\n",
    "print(plt.style.available)\n",
    "\n",
    "# importing Predictive Analytics/ Machine Learning libraries\n",
    "from xgboost import XGBClassifier\n",
    "from imblearn.over_sampling import SMOTE\n",
    "from sklearn.linear_model import LogisticRegression, SGDClassifier\n",
    "from sklearn.ensemble import RandomForestClassifier, AdaBoostClassifier, GradientBoostingClassifier\n",
    "from sklearn.naive_bayes import GaussianNB\n",
    "\n",
    "# Change pandas viewing options\n",
    "pd.set_option('display.max_rows', 500)\n",
    "pd.set_option('display.max_columns', 500)\n",
    "pd.set_option('display.width', 1000)"
   ]
  },
  {
   "attachments": {},
   "cell_type": "markdown",
   "metadata": {},
   "source": [
    "![Obtain%20the%20Data.jpg](https://raw.githubusercontent.com/andrewwongls/dsc-5-capstone-project-online-ds-sp-000/master/Obtain%20the%20Data.jpg)\n",
    "\n",
    "![Data%20Scrubbing.jpg](https://raw.githubusercontent.com/andrewwongls/dsc-5-capstone-project-online-ds-sp-000/master/Data%20Scrubbing.jpg)\n"
   ]
  },
  {
   "cell_type": "code",
   "execution_count": 2,
   "metadata": {},
   "outputs": [
    {
     "data": {
      "text/html": [
       "<div>\n",
       "<style scoped>\n",
       "    .dataframe tbody tr th:only-of-type {\n",
       "        vertical-align: middle;\n",
       "    }\n",
       "\n",
       "    .dataframe tbody tr th {\n",
       "        vertical-align: top;\n",
       "    }\n",
       "\n",
       "    .dataframe thead th {\n",
       "        text-align: right;\n",
       "    }\n",
       "</style>\n",
       "<table border=\"1\" class=\"dataframe\">\n",
       "  <thead>\n",
       "    <tr style=\"text-align: right;\">\n",
       "      <th></th>\n",
       "      <th>host_is_superhost</th>\n",
       "      <th>host_has_profile_pic</th>\n",
       "      <th>host_identity_verified</th>\n",
       "      <th>room_type</th>\n",
       "      <th>accommodates</th>\n",
       "      <th>price</th>\n",
       "      <th>guests_included</th>\n",
       "      <th>extra_people</th>\n",
       "      <th>minimum_nights</th>\n",
       "      <th>maximum_nights</th>\n",
       "      <th>review_scores_rating</th>\n",
       "      <th>review_scores_cleanliness</th>\n",
       "      <th>instant_bookable</th>\n",
       "      <th>require_guest_profile_picture</th>\n",
       "      <th>require_guest_phone_verification</th>\n",
       "      <th>reviews_per_month</th>\n",
       "      <th>is_Wifi</th>\n",
       "      <th>amenities_number</th>\n",
       "    </tr>\n",
       "  </thead>\n",
       "  <tbody>\n",
       "    <tr>\n",
       "      <th>0</th>\n",
       "      <td>1.0</td>\n",
       "      <td>1.0</td>\n",
       "      <td>0.0</td>\n",
       "      <td>2</td>\n",
       "      <td>2</td>\n",
       "      <td>50.0</td>\n",
       "      <td>1</td>\n",
       "      <td>0.0</td>\n",
       "      <td>3</td>\n",
       "      <td>60</td>\n",
       "      <td>95.0</td>\n",
       "      <td>10.0</td>\n",
       "      <td>1</td>\n",
       "      <td>1</td>\n",
       "      <td>1</td>\n",
       "      <td>2.01</td>\n",
       "      <td>1</td>\n",
       "      <td>38</td>\n",
       "    </tr>\n",
       "    <tr>\n",
       "      <th>1</th>\n",
       "      <td>0.0</td>\n",
       "      <td>1.0</td>\n",
       "      <td>0.0</td>\n",
       "      <td>3</td>\n",
       "      <td>2</td>\n",
       "      <td>88.0</td>\n",
       "      <td>1</td>\n",
       "      <td>42.0</td>\n",
       "      <td>3</td>\n",
       "      <td>30</td>\n",
       "      <td>99.0</td>\n",
       "      <td>10.0</td>\n",
       "      <td>0</td>\n",
       "      <td>1</td>\n",
       "      <td>1</td>\n",
       "      <td>1.02</td>\n",
       "      <td>1</td>\n",
       "      <td>28</td>\n",
       "    </tr>\n",
       "    <tr>\n",
       "      <th>2</th>\n",
       "      <td>0.0</td>\n",
       "      <td>1.0</td>\n",
       "      <td>1.0</td>\n",
       "      <td>3</td>\n",
       "      <td>4</td>\n",
       "      <td>130.0</td>\n",
       "      <td>2</td>\n",
       "      <td>10.0</td>\n",
       "      <td>3</td>\n",
       "      <td>28</td>\n",
       "      <td>96.0</td>\n",
       "      <td>9.0</td>\n",
       "      <td>0</td>\n",
       "      <td>1</td>\n",
       "      <td>0</td>\n",
       "      <td>1.70</td>\n",
       "      <td>1</td>\n",
       "      <td>34</td>\n",
       "    </tr>\n",
       "    <tr>\n",
       "      <th>3</th>\n",
       "      <td>0.0</td>\n",
       "      <td>1.0</td>\n",
       "      <td>0.0</td>\n",
       "      <td>2</td>\n",
       "      <td>2</td>\n",
       "      <td>30.0</td>\n",
       "      <td>1</td>\n",
       "      <td>10.0</td>\n",
       "      <td>1</td>\n",
       "      <td>5</td>\n",
       "      <td>NaN</td>\n",
       "      <td>NaN</td>\n",
       "      <td>0</td>\n",
       "      <td>0</td>\n",
       "      <td>0</td>\n",
       "      <td>0.65</td>\n",
       "      <td>1</td>\n",
       "      <td>15</td>\n",
       "    </tr>\n",
       "    <tr>\n",
       "      <th>4</th>\n",
       "      <td>1.0</td>\n",
       "      <td>1.0</td>\n",
       "      <td>0.0</td>\n",
       "      <td>2</td>\n",
       "      <td>2</td>\n",
       "      <td>50.0</td>\n",
       "      <td>1</td>\n",
       "      <td>0.0</td>\n",
       "      <td>3</td>\n",
       "      <td>14</td>\n",
       "      <td>96.0</td>\n",
       "      <td>10.0</td>\n",
       "      <td>1</td>\n",
       "      <td>1</td>\n",
       "      <td>1</td>\n",
       "      <td>1.50</td>\n",
       "      <td>1</td>\n",
       "      <td>22</td>\n",
       "    </tr>\n",
       "    <tr>\n",
       "      <th>5</th>\n",
       "      <td>1.0</td>\n",
       "      <td>1.0</td>\n",
       "      <td>0.0</td>\n",
       "      <td>2</td>\n",
       "      <td>2</td>\n",
       "      <td>60.0</td>\n",
       "      <td>1</td>\n",
       "      <td>35.0</td>\n",
       "      <td>2</td>\n",
       "      <td>100</td>\n",
       "      <td>96.0</td>\n",
       "      <td>9.0</td>\n",
       "      <td>1</td>\n",
       "      <td>0</td>\n",
       "      <td>0</td>\n",
       "      <td>1.01</td>\n",
       "      <td>1</td>\n",
       "      <td>18</td>\n",
       "    </tr>\n",
       "    <tr>\n",
       "      <th>6</th>\n",
       "      <td>0.0</td>\n",
       "      <td>1.0</td>\n",
       "      <td>0.0</td>\n",
       "      <td>2</td>\n",
       "      <td>2</td>\n",
       "      <td>55.0</td>\n",
       "      <td>1</td>\n",
       "      <td>13.0</td>\n",
       "      <td>2</td>\n",
       "      <td>14</td>\n",
       "      <td>94.0</td>\n",
       "      <td>9.0</td>\n",
       "      <td>0</td>\n",
       "      <td>0</td>\n",
       "      <td>0</td>\n",
       "      <td>1.13</td>\n",
       "      <td>1</td>\n",
       "      <td>15</td>\n",
       "    </tr>\n",
       "    <tr>\n",
       "      <th>7</th>\n",
       "      <td>0.0</td>\n",
       "      <td>1.0</td>\n",
       "      <td>0.0</td>\n",
       "      <td>2</td>\n",
       "      <td>1</td>\n",
       "      <td>30.0</td>\n",
       "      <td>1</td>\n",
       "      <td>0.0</td>\n",
       "      <td>1</td>\n",
       "      <td>14</td>\n",
       "      <td>95.0</td>\n",
       "      <td>9.0</td>\n",
       "      <td>1</td>\n",
       "      <td>0</td>\n",
       "      <td>1</td>\n",
       "      <td>3.12</td>\n",
       "      <td>1</td>\n",
       "      <td>28</td>\n",
       "    </tr>\n",
       "    <tr>\n",
       "      <th>8</th>\n",
       "      <td>1.0</td>\n",
       "      <td>1.0</td>\n",
       "      <td>1.0</td>\n",
       "      <td>2</td>\n",
       "      <td>6</td>\n",
       "      <td>55.0</td>\n",
       "      <td>2</td>\n",
       "      <td>30.0</td>\n",
       "      <td>1</td>\n",
       "      <td>12</td>\n",
       "      <td>96.0</td>\n",
       "      <td>10.0</td>\n",
       "      <td>0</td>\n",
       "      <td>0</td>\n",
       "      <td>0</td>\n",
       "      <td>4.95</td>\n",
       "      <td>1</td>\n",
       "      <td>36</td>\n",
       "    </tr>\n",
       "    <tr>\n",
       "      <th>9</th>\n",
       "      <td>0.0</td>\n",
       "      <td>1.0</td>\n",
       "      <td>1.0</td>\n",
       "      <td>3</td>\n",
       "      <td>5</td>\n",
       "      <td>147.0</td>\n",
       "      <td>3</td>\n",
       "      <td>0.0</td>\n",
       "      <td>3</td>\n",
       "      <td>365</td>\n",
       "      <td>91.0</td>\n",
       "      <td>9.0</td>\n",
       "      <td>0</td>\n",
       "      <td>0</td>\n",
       "      <td>0</td>\n",
       "      <td>0.37</td>\n",
       "      <td>1</td>\n",
       "      <td>22</td>\n",
       "    </tr>\n",
       "    <tr>\n",
       "      <th>10</th>\n",
       "      <td>0.0</td>\n",
       "      <td>1.0</td>\n",
       "      <td>1.0</td>\n",
       "      <td>3</td>\n",
       "      <td>5</td>\n",
       "      <td>135.0</td>\n",
       "      <td>1</td>\n",
       "      <td>0.0</td>\n",
       "      <td>3</td>\n",
       "      <td>90</td>\n",
       "      <td>94.0</td>\n",
       "      <td>10.0</td>\n",
       "      <td>0</td>\n",
       "      <td>0</td>\n",
       "      <td>0</td>\n",
       "      <td>0.55</td>\n",
       "      <td>1</td>\n",
       "      <td>23</td>\n",
       "    </tr>\n",
       "    <tr>\n",
       "      <th>11</th>\n",
       "      <td>1.0</td>\n",
       "      <td>1.0</td>\n",
       "      <td>0.0</td>\n",
       "      <td>2</td>\n",
       "      <td>2</td>\n",
       "      <td>56.0</td>\n",
       "      <td>1</td>\n",
       "      <td>25.0</td>\n",
       "      <td>2</td>\n",
       "      <td>5</td>\n",
       "      <td>98.0</td>\n",
       "      <td>10.0</td>\n",
       "      <td>0</td>\n",
       "      <td>0</td>\n",
       "      <td>0</td>\n",
       "      <td>3.51</td>\n",
       "      <td>1</td>\n",
       "      <td>16</td>\n",
       "    </tr>\n",
       "    <tr>\n",
       "      <th>12</th>\n",
       "      <td>0.0</td>\n",
       "      <td>1.0</td>\n",
       "      <td>0.0</td>\n",
       "      <td>2</td>\n",
       "      <td>2</td>\n",
       "      <td>75.0</td>\n",
       "      <td>1</td>\n",
       "      <td>17.0</td>\n",
       "      <td>2</td>\n",
       "      <td>1125</td>\n",
       "      <td>94.0</td>\n",
       "      <td>9.0</td>\n",
       "      <td>0</td>\n",
       "      <td>0</td>\n",
       "      <td>0</td>\n",
       "      <td>0.88</td>\n",
       "      <td>1</td>\n",
       "      <td>19</td>\n",
       "    </tr>\n",
       "    <tr>\n",
       "      <th>13</th>\n",
       "      <td>0.0</td>\n",
       "      <td>1.0</td>\n",
       "      <td>1.0</td>\n",
       "      <td>3</td>\n",
       "      <td>6</td>\n",
       "      <td>220.0</td>\n",
       "      <td>2</td>\n",
       "      <td>15.0</td>\n",
       "      <td>2</td>\n",
       "      <td>1125</td>\n",
       "      <td>96.0</td>\n",
       "      <td>10.0</td>\n",
       "      <td>1</td>\n",
       "      <td>1</td>\n",
       "      <td>1</td>\n",
       "      <td>1.37</td>\n",
       "      <td>1</td>\n",
       "      <td>38</td>\n",
       "    </tr>\n",
       "    <tr>\n",
       "      <th>14</th>\n",
       "      <td>0.0</td>\n",
       "      <td>1.0</td>\n",
       "      <td>0.0</td>\n",
       "      <td>3</td>\n",
       "      <td>3</td>\n",
       "      <td>55.0</td>\n",
       "      <td>2</td>\n",
       "      <td>20.0</td>\n",
       "      <td>2</td>\n",
       "      <td>14</td>\n",
       "      <td>91.0</td>\n",
       "      <td>9.0</td>\n",
       "      <td>1</td>\n",
       "      <td>0</td>\n",
       "      <td>0</td>\n",
       "      <td>2.46</td>\n",
       "      <td>1</td>\n",
       "      <td>22</td>\n",
       "    </tr>\n",
       "    <tr>\n",
       "      <th>15</th>\n",
       "      <td>1.0</td>\n",
       "      <td>1.0</td>\n",
       "      <td>0.0</td>\n",
       "      <td>2</td>\n",
       "      <td>1</td>\n",
       "      <td>30.0</td>\n",
       "      <td>1</td>\n",
       "      <td>10.0</td>\n",
       "      <td>1</td>\n",
       "      <td>180</td>\n",
       "      <td>98.0</td>\n",
       "      <td>10.0</td>\n",
       "      <td>0</td>\n",
       "      <td>1</td>\n",
       "      <td>0</td>\n",
       "      <td>0.37</td>\n",
       "      <td>1</td>\n",
       "      <td>33</td>\n",
       "    </tr>\n",
       "    <tr>\n",
       "      <th>16</th>\n",
       "      <td>1.0</td>\n",
       "      <td>1.0</td>\n",
       "      <td>1.0</td>\n",
       "      <td>2</td>\n",
       "      <td>2</td>\n",
       "      <td>59.0</td>\n",
       "      <td>1</td>\n",
       "      <td>25.0</td>\n",
       "      <td>5</td>\n",
       "      <td>1124</td>\n",
       "      <td>93.0</td>\n",
       "      <td>8.0</td>\n",
       "      <td>0</td>\n",
       "      <td>1</td>\n",
       "      <td>1</td>\n",
       "      <td>0.93</td>\n",
       "      <td>1</td>\n",
       "      <td>39</td>\n",
       "    </tr>\n",
       "    <tr>\n",
       "      <th>17</th>\n",
       "      <td>1.0</td>\n",
       "      <td>1.0</td>\n",
       "      <td>1.0</td>\n",
       "      <td>2</td>\n",
       "      <td>2</td>\n",
       "      <td>50.0</td>\n",
       "      <td>1</td>\n",
       "      <td>15.0</td>\n",
       "      <td>1</td>\n",
       "      <td>90</td>\n",
       "      <td>96.0</td>\n",
       "      <td>10.0</td>\n",
       "      <td>0</td>\n",
       "      <td>0</td>\n",
       "      <td>0</td>\n",
       "      <td>1.69</td>\n",
       "      <td>1</td>\n",
       "      <td>25</td>\n",
       "    </tr>\n",
       "    <tr>\n",
       "      <th>18</th>\n",
       "      <td>0.0</td>\n",
       "      <td>1.0</td>\n",
       "      <td>0.0</td>\n",
       "      <td>2</td>\n",
       "      <td>2</td>\n",
       "      <td>36.0</td>\n",
       "      <td>1</td>\n",
       "      <td>15.0</td>\n",
       "      <td>1</td>\n",
       "      <td>365</td>\n",
       "      <td>88.0</td>\n",
       "      <td>9.0</td>\n",
       "      <td>0</td>\n",
       "      <td>0</td>\n",
       "      <td>0</td>\n",
       "      <td>1.89</td>\n",
       "      <td>1</td>\n",
       "      <td>9</td>\n",
       "    </tr>\n",
       "    <tr>\n",
       "      <th>19</th>\n",
       "      <td>0.0</td>\n",
       "      <td>1.0</td>\n",
       "      <td>1.0</td>\n",
       "      <td>2</td>\n",
       "      <td>1</td>\n",
       "      <td>35.0</td>\n",
       "      <td>1</td>\n",
       "      <td>0.0</td>\n",
       "      <td>2</td>\n",
       "      <td>21</td>\n",
       "      <td>97.0</td>\n",
       "      <td>9.0</td>\n",
       "      <td>0</td>\n",
       "      <td>1</td>\n",
       "      <td>1</td>\n",
       "      <td>0.59</td>\n",
       "      <td>1</td>\n",
       "      <td>9</td>\n",
       "    </tr>\n",
       "  </tbody>\n",
       "</table>\n",
       "</div>"
      ],
      "text/plain": [
       "    host_is_superhost  host_has_profile_pic  host_identity_verified  room_type  accommodates  price  guests_included  extra_people  minimum_nights  maximum_nights  review_scores_rating  review_scores_cleanliness  instant_bookable  require_guest_profile_picture  require_guest_phone_verification  reviews_per_month  is_Wifi  amenities_number\n",
       "0                 1.0                   1.0                     0.0          2             2   50.0                1           0.0               3              60                  95.0                       10.0                 1                              1                                 1               2.01        1                38\n",
       "1                 0.0                   1.0                     0.0          3             2   88.0                1          42.0               3              30                  99.0                       10.0                 0                              1                                 1               1.02        1                28\n",
       "2                 0.0                   1.0                     1.0          3             4  130.0                2          10.0               3              28                  96.0                        9.0                 0                              1                                 0               1.70        1                34\n",
       "3                 0.0                   1.0                     0.0          2             2   30.0                1          10.0               1               5                   NaN                        NaN                 0                              0                                 0               0.65        1                15\n",
       "4                 1.0                   1.0                     0.0          2             2   50.0                1           0.0               3              14                  96.0                       10.0                 1                              1                                 1               1.50        1                22\n",
       "5                 1.0                   1.0                     0.0          2             2   60.0                1          35.0               2             100                  96.0                        9.0                 1                              0                                 0               1.01        1                18\n",
       "6                 0.0                   1.0                     0.0          2             2   55.0                1          13.0               2              14                  94.0                        9.0                 0                              0                                 0               1.13        1                15\n",
       "7                 0.0                   1.0                     0.0          2             1   30.0                1           0.0               1              14                  95.0                        9.0                 1                              0                                 1               3.12        1                28\n",
       "8                 1.0                   1.0                     1.0          2             6   55.0                2          30.0               1              12                  96.0                       10.0                 0                              0                                 0               4.95        1                36\n",
       "9                 0.0                   1.0                     1.0          3             5  147.0                3           0.0               3             365                  91.0                        9.0                 0                              0                                 0               0.37        1                22\n",
       "10                0.0                   1.0                     1.0          3             5  135.0                1           0.0               3              90                  94.0                       10.0                 0                              0                                 0               0.55        1                23\n",
       "11                1.0                   1.0                     0.0          2             2   56.0                1          25.0               2               5                  98.0                       10.0                 0                              0                                 0               3.51        1                16\n",
       "12                0.0                   1.0                     0.0          2             2   75.0                1          17.0               2            1125                  94.0                        9.0                 0                              0                                 0               0.88        1                19\n",
       "13                0.0                   1.0                     1.0          3             6  220.0                2          15.0               2            1125                  96.0                       10.0                 1                              1                                 1               1.37        1                38\n",
       "14                0.0                   1.0                     0.0          3             3   55.0                2          20.0               2              14                  91.0                        9.0                 1                              0                                 0               2.46        1                22\n",
       "15                1.0                   1.0                     0.0          2             1   30.0                1          10.0               1             180                  98.0                       10.0                 0                              1                                 0               0.37        1                33\n",
       "16                1.0                   1.0                     1.0          2             2   59.0                1          25.0               5            1124                  93.0                        8.0                 0                              1                                 1               0.93        1                39\n",
       "17                1.0                   1.0                     1.0          2             2   50.0                1          15.0               1              90                  96.0                       10.0                 0                              0                                 0               1.69        1                25\n",
       "18                0.0                   1.0                     0.0          2             2   36.0                1          15.0               1             365                  88.0                        9.0                 0                              0                                 0               1.89        1                 9\n",
       "19                0.0                   1.0                     1.0          2             1   35.0                1           0.0               2              21                  97.0                        9.0                 0                              1                                 1               0.59        1                 9"
      ]
     },
     "execution_count": 2,
     "metadata": {},
     "output_type": "execute_result"
    }
   ],
   "source": [
    "# extracting data from previous data extraction\n",
    "\n",
    "Listings_Filtered_V2 = pd.read_csv('Listings_Filtered.csv', low_memory=False)\n",
    "Listings_Filtered_V2.head(20)"
   ]
  },
  {
   "cell_type": "code",
   "execution_count": 3,
   "metadata": {},
   "outputs": [
    {
     "data": {
      "text/plain": [
       "1.00     0.020946\n",
       "0.05     0.011647\n",
       "0.06     0.011617\n",
       "0.09     0.011295\n",
       "0.17     0.011001\n",
       "0.04     0.009798\n",
       "0.13     0.009006\n",
       "0.03     0.008889\n",
       "2.00     0.008860\n",
       "0.10     0.008625\n",
       "0.11     0.008537\n",
       "0.08     0.008420\n",
       "0.02     0.008126\n",
       "0.16     0.007980\n",
       "0.26     0.007364\n",
       "0.07     0.007334\n",
       "0.28     0.007099\n",
       "0.18     0.006865\n",
       "0.19     0.006777\n",
       "0.22     0.006483\n",
       "0.14     0.006483\n",
       "0.20     0.006278\n",
       "0.12     0.006278\n",
       "0.15     0.006073\n",
       "0.37     0.005985\n",
       "0.21     0.005897\n",
       "0.23     0.005574\n",
       "3.00     0.005515\n",
       "0.30     0.005369\n",
       "0.34     0.005281\n",
       "0.25     0.005163\n",
       "0.27     0.005075\n",
       "0.38     0.004958\n",
       "0.24     0.004929\n",
       "0.29     0.004811\n",
       "0.35     0.004811\n",
       "0.39     0.004782\n",
       "0.43     0.004635\n",
       "0.32     0.004577\n",
       "0.46     0.004459\n",
       "0.56     0.004430\n",
       "0.47     0.004401\n",
       "0.36     0.004371\n",
       "0.31     0.004254\n",
       "0.42     0.004224\n",
       "0.65     0.004136\n",
       "0.40     0.004107\n",
       "0.45     0.003755\n",
       "0.49     0.003667\n",
       "0.55     0.003667\n",
       "0.63     0.003608\n",
       "0.33     0.003579\n",
       "0.60     0.003579\n",
       "0.53     0.003550\n",
       "0.61     0.003520\n",
       "0.71     0.003520\n",
       "0.48     0.003462\n",
       "0.44     0.003432\n",
       "0.51     0.003432\n",
       "0.52     0.003403\n",
       "0.68     0.003374\n",
       "0.57     0.003344\n",
       "0.64     0.003315\n",
       "0.66     0.003315\n",
       "0.50     0.003286\n",
       "0.92     0.003227\n",
       "0.74     0.003198\n",
       "0.75     0.003198\n",
       "0.58     0.003198\n",
       "0.79     0.003139\n",
       "4.00     0.003139\n",
       "0.67     0.003110\n",
       "0.83     0.003080\n",
       "0.59     0.003051\n",
       "0.70     0.003051\n",
       "0.41     0.002992\n",
       "0.78     0.002992\n",
       "0.73     0.002963\n",
       "0.87     0.002904\n",
       "0.94     0.002846\n",
       "0.88     0.002816\n",
       "1.03     0.002787\n",
       "0.69     0.002787\n",
       "0.91     0.002758\n",
       "1.11     0.002728\n",
       "0.86     0.002728\n",
       "1.18     0.002699\n",
       "0.84     0.002699\n",
       "0.54     0.002699\n",
       "0.85     0.002699\n",
       "0.72     0.002670\n",
       "1.10     0.002640\n",
       "1.50     0.002640\n",
       "1.22     0.002611\n",
       "0.90     0.002611\n",
       "1.29     0.002582\n",
       "0.81     0.002582\n",
       "1.17     0.002523\n",
       "0.62     0.002523\n",
       "0.82     0.002494\n",
       "1.06     0.002494\n",
       "0.93     0.002494\n",
       "0.80     0.002494\n",
       "1.23     0.002494\n",
       "1.20     0.002494\n",
       "1.02     0.002464\n",
       "1.09     0.002464\n",
       "0.98     0.002464\n",
       "0.77     0.002435\n",
       "1.14     0.002347\n",
       "1.19     0.002318\n",
       "1.46     0.002318\n",
       "1.40     0.002318\n",
       "1.30     0.002318\n",
       "0.97     0.002318\n",
       "1.05     0.002288\n",
       "0.96     0.002288\n",
       "0.89     0.002259\n",
       "0.76     0.002259\n",
       "1.36     0.002259\n",
       "1.42     0.002230\n",
       "0.99     0.002230\n",
       "1.34     0.002200\n",
       "1.13     0.002171\n",
       "1.76     0.002171\n",
       "1.33     0.002142\n",
       "1.38     0.002142\n",
       "1.67     0.002112\n",
       "5.00     0.002083\n",
       "1.73     0.002083\n",
       "1.60     0.002054\n",
       "1.83     0.002054\n",
       "1.07     0.002024\n",
       "1.04     0.001995\n",
       "2.31     0.001995\n",
       "1.35     0.001966\n",
       "1.54     0.001966\n",
       "1.01     0.001936\n",
       "0.95     0.001936\n",
       "1.16     0.001936\n",
       "1.58     0.001936\n",
       "1.48     0.001936\n",
       "1.24     0.001936\n",
       "1.21     0.001907\n",
       "1.88     0.001907\n",
       "1.39     0.001878\n",
       "1.31     0.001878\n",
       "1.53     0.001878\n",
       "1.12     0.001878\n",
       "1.45     0.001878\n",
       "1.08     0.001848\n",
       "1.32     0.001848\n",
       "1.25     0.001848\n",
       "1.15     0.001819\n",
       "1.28     0.001819\n",
       "2.16     0.001790\n",
       "2.37     0.001790\n",
       "1.26     0.001790\n",
       "1.82     0.001760\n",
       "2.73     0.001731\n",
       "1.43     0.001731\n",
       "1.27     0.001731\n",
       "1.49     0.001702\n",
       "2.01     0.001672\n",
       "1.90     0.001672\n",
       "1.66     0.001643\n",
       "1.96     0.001643\n",
       "1.59     0.001643\n",
       "1.85     0.001643\n",
       "1.72     0.001643\n",
       "1.70     0.001614\n",
       "2.03     0.001614\n",
       "2.50     0.001614\n",
       "1.37     0.001614\n",
       "1.79     0.001614\n",
       "1.97     0.001614\n",
       "1.86     0.001584\n",
       "2.33     0.001584\n",
       "2.20     0.001555\n",
       "1.75     0.001555\n",
       "1.47     0.001555\n",
       "1.52     0.001555\n",
       "1.55     0.001555\n",
       "1.41     0.001555\n",
       "1.91     0.001555\n",
       "2.08     0.001555\n",
       "2.25     0.001555\n",
       "1.71     0.001526\n",
       "1.51     0.001526\n",
       "1.68     0.001526\n",
       "2.39     0.001526\n",
       "2.61     0.001526\n",
       "1.78     0.001496\n",
       "1.61     0.001467\n",
       "2.10     0.001467\n",
       "2.43     0.001437\n",
       "1.44     0.001437\n",
       "2.06     0.001437\n",
       "2.22     0.001437\n",
       "1.69     0.001437\n",
       "3.33     0.001437\n",
       "2.45     0.001437\n",
       "1.80     0.001437\n",
       "1.62     0.001408\n",
       "1.84     0.001408\n",
       "2.58     0.001379\n",
       "1.63     0.001379\n",
       "1.74     0.001379\n",
       "1.65     0.001379\n",
       "2.09     0.001349\n",
       "2.11     0.001349\n",
       "1.89     0.001349\n",
       "1.56     0.001349\n",
       "2.59     0.001349\n",
       "2.14     0.001320\n",
       "1.81     0.001320\n",
       "2.35     0.001320\n",
       "2.04     0.001320\n",
       "2.67     0.001291\n",
       "2.02     0.001291\n",
       "1.87     0.001291\n",
       "2.40     0.001291\n",
       "2.44     0.001291\n",
       "2.13     0.001261\n",
       "2.38     0.001261\n",
       "2.48     0.001261\n",
       "1.99     0.001261\n",
       "3.19     0.001261\n",
       "3.43     0.001232\n",
       "2.26     0.001232\n",
       "6.00     0.001232\n",
       "2.15     0.001232\n",
       "2.80     0.001232\n",
       "2.57     0.001232\n",
       "1.98     0.001232\n",
       "2.36     0.001232\n",
       "1.64     0.001232\n",
       "1.92     0.001203\n",
       "2.75     0.001203\n",
       "2.65     0.001203\n",
       "2.55     0.001203\n",
       "1.77     0.001203\n",
       "2.47     0.001203\n",
       "2.17     0.001203\n",
       "2.97     0.001203\n",
       "2.12     0.001203\n",
       "3.75     0.001203\n",
       "1.94     0.001203\n",
       "2.52     0.001173\n",
       "2.34     0.001173\n",
       "           ...   \n",
       "7.12     0.000088\n",
       "8.51     0.000088\n",
       "7.24     0.000088\n",
       "7.83     0.000088\n",
       "9.34     0.000059\n",
       "8.89     0.000059\n",
       "12.35    0.000059\n",
       "10.41    0.000059\n",
       "8.25     0.000059\n",
       "7.53     0.000059\n",
       "7.46     0.000059\n",
       "8.43     0.000059\n",
       "7.74     0.000059\n",
       "7.26     0.000059\n",
       "7.41     0.000059\n",
       "8.98     0.000059\n",
       "8.77     0.000059\n",
       "8.63     0.000059\n",
       "7.85     0.000059\n",
       "10.55    0.000059\n",
       "10.83    0.000059\n",
       "8.27     0.000059\n",
       "10.52    0.000059\n",
       "8.62     0.000059\n",
       "8.19     0.000059\n",
       "7.13     0.000059\n",
       "9.62     0.000059\n",
       "7.39     0.000059\n",
       "8.36     0.000059\n",
       "9.33     0.000059\n",
       "7.99     0.000059\n",
       "8.34     0.000059\n",
       "8.70     0.000059\n",
       "9.58     0.000059\n",
       "8.73     0.000059\n",
       "6.95     0.000059\n",
       "11.32    0.000059\n",
       "8.21     0.000059\n",
       "7.91     0.000059\n",
       "7.84     0.000059\n",
       "11.02    0.000059\n",
       "7.52     0.000059\n",
       "7.65     0.000059\n",
       "9.67     0.000059\n",
       "11.08    0.000059\n",
       "8.93     0.000059\n",
       "8.15     0.000059\n",
       "7.88     0.000059\n",
       "7.96     0.000059\n",
       "8.68     0.000059\n",
       "8.84     0.000059\n",
       "7.37     0.000059\n",
       "8.55     0.000059\n",
       "9.83     0.000059\n",
       "7.35     0.000059\n",
       "10.14    0.000059\n",
       "7.93     0.000059\n",
       "11.27    0.000059\n",
       "8.57     0.000059\n",
       "8.72     0.000059\n",
       "10.67    0.000059\n",
       "7.44     0.000059\n",
       "7.23     0.000059\n",
       "10.23    0.000059\n",
       "8.26     0.000059\n",
       "10.17    0.000059\n",
       "9.30     0.000059\n",
       "9.63     0.000059\n",
       "10.78    0.000059\n",
       "10.16    0.000059\n",
       "7.07     0.000059\n",
       "9.76     0.000059\n",
       "9.31     0.000059\n",
       "9.12     0.000059\n",
       "8.11     0.000059\n",
       "8.38     0.000059\n",
       "10.73    0.000059\n",
       "8.61     0.000059\n",
       "9.77     0.000059\n",
       "7.70     0.000059\n",
       "8.92     0.000059\n",
       "8.82     0.000059\n",
       "9.32     0.000059\n",
       "11.60    0.000059\n",
       "10.49    0.000059\n",
       "9.64     0.000059\n",
       "9.89     0.000059\n",
       "9.59     0.000059\n",
       "9.03     0.000059\n",
       "12.32    0.000059\n",
       "7.58     0.000059\n",
       "9.17     0.000059\n",
       "9.94     0.000029\n",
       "11.49    0.000029\n",
       "10.60    0.000029\n",
       "12.78    0.000029\n",
       "13.88    0.000029\n",
       "8.67     0.000029\n",
       "8.66     0.000029\n",
       "9.27     0.000029\n",
       "6.66     0.000029\n",
       "9.69     0.000029\n",
       "7.97     0.000029\n",
       "11.37    0.000029\n",
       "8.24     0.000029\n",
       "10.40    0.000029\n",
       "0.00     0.000029\n",
       "7.95     0.000029\n",
       "16.41    0.000029\n",
       "10.22    0.000029\n",
       "12.59    0.000029\n",
       "8.81     0.000029\n",
       "8.45     0.000029\n",
       "7.05     0.000029\n",
       "9.38     0.000029\n",
       "10.37    0.000029\n",
       "9.75     0.000029\n",
       "17.00    0.000029\n",
       "9.01     0.000029\n",
       "11.69    0.000029\n",
       "12.07    0.000029\n",
       "10.02    0.000029\n",
       "8.79     0.000029\n",
       "19.15    0.000029\n",
       "8.49     0.000029\n",
       "8.12     0.000029\n",
       "12.47    0.000029\n",
       "10.58    0.000029\n",
       "10.89    0.000029\n",
       "16.97    0.000029\n",
       "8.76     0.000029\n",
       "9.20     0.000029\n",
       "10.24    0.000029\n",
       "13.67    0.000029\n",
       "11.15    0.000029\n",
       "12.69    0.000029\n",
       "7.17     0.000029\n",
       "10.64    0.000029\n",
       "11.13    0.000029\n",
       "13.33    0.000029\n",
       "13.43    0.000029\n",
       "10.86    0.000029\n",
       "12.25    0.000029\n",
       "9.49     0.000029\n",
       "15.95    0.000029\n",
       "10.45    0.000029\n",
       "12.96    0.000029\n",
       "9.41     0.000029\n",
       "9.11     0.000029\n",
       "14.48    0.000029\n",
       "8.37     0.000029\n",
       "9.44     0.000029\n",
       "9.82     0.000029\n",
       "11.76    0.000029\n",
       "8.20     0.000029\n",
       "13.74    0.000029\n",
       "11.10    0.000029\n",
       "10.56    0.000029\n",
       "14.35    0.000029\n",
       "11.47    0.000029\n",
       "10.69    0.000029\n",
       "9.15     0.000029\n",
       "10.50    0.000029\n",
       "10.93    0.000029\n",
       "9.37     0.000029\n",
       "14.14    0.000029\n",
       "11.70    0.000029\n",
       "8.46     0.000029\n",
       "11.30    0.000029\n",
       "14.83    0.000029\n",
       "10.98    0.000029\n",
       "9.05     0.000029\n",
       "7.94     0.000029\n",
       "10.47    0.000029\n",
       "12.89    0.000029\n",
       "10.09    0.000029\n",
       "8.22     0.000029\n",
       "12.06    0.000029\n",
       "11.42    0.000029\n",
       "11.56    0.000029\n",
       "9.16     0.000029\n",
       "10.43    0.000029\n",
       "13.29    0.000029\n",
       "8.05     0.000029\n",
       "8.94     0.000029\n",
       "7.81     0.000029\n",
       "8.88     0.000029\n",
       "9.42     0.000029\n",
       "12.08    0.000029\n",
       "12.77    0.000029\n",
       "13.04    0.000029\n",
       "12.39    0.000029\n",
       "12.11    0.000029\n",
       "10.88    0.000029\n",
       "8.71     0.000029\n",
       "10.81    0.000029\n",
       "11.25    0.000029\n",
       "9.86     0.000029\n",
       "8.96     0.000029\n",
       "9.43     0.000029\n",
       "12.02    0.000029\n",
       "12.16    0.000029\n",
       "11.05    0.000029\n",
       "12.54    0.000029\n",
       "10.34    0.000029\n",
       "12.26    0.000029\n",
       "8.86     0.000029\n",
       "11.34    0.000029\n",
       "8.69     0.000029\n",
       "11.85    0.000029\n",
       "11.41    0.000029\n",
       "8.99     0.000029\n",
       "8.59     0.000029\n",
       "11.31    0.000029\n",
       "14.93    0.000029\n",
       "8.91     0.000029\n",
       "10.79    0.000029\n",
       "10.71    0.000029\n",
       "8.64     0.000029\n",
       "12.60    0.000029\n",
       "13.00    0.000029\n",
       "12.00    0.000029\n",
       "8.28     0.000029\n",
       "10.95    0.000029\n",
       "10.15    0.000029\n",
       "11.50    0.000029\n",
       "10.25    0.000029\n",
       "8.13     0.000029\n",
       "8.14     0.000029\n",
       "11.28    0.000029\n",
       "7.56     0.000029\n",
       "11.59    0.000029\n",
       "9.91     0.000029\n",
       "9.10     0.000029\n",
       "10.38    0.000029\n",
       "12.20    0.000029\n",
       "11.40    0.000029\n",
       "10.32    0.000029\n",
       "8.52     0.000029\n",
       "10.85    0.000029\n",
       "13.16    0.000029\n",
       "7.75     0.000029\n",
       "13.11    0.000029\n",
       "13.80    0.000029\n",
       "14.60    0.000029\n",
       "7.57     0.000029\n",
       "9.07     0.000029\n",
       "7.60     0.000029\n",
       "12.92    0.000029\n",
       "11.98    0.000029\n",
       "Name: reviews_per_month, Length: 1063, dtype: float64"
      ]
     },
     "execution_count": 3,
     "metadata": {},
     "output_type": "execute_result"
    }
   ],
   "source": [
    "# checking the values\n",
    "\n",
    "Listings_Filtered_V2['reviews_per_month'].value_counts(normalize = True)"
   ]
  },
  {
   "cell_type": "code",
   "execution_count": 4,
   "metadata": {},
   "outputs": [
    {
     "data": {
      "text/plain": [
       "<map at 0x262a45161d0>"
      ]
     },
     "execution_count": 4,
     "metadata": {},
     "output_type": "execute_result"
    }
   ],
   "source": [
    "map(lambda v:0 if np.isnan(v) == True else v, 'reviews_per_month')"
   ]
  },
  {
   "cell_type": "code",
   "execution_count": 5,
   "metadata": {},
   "outputs": [
    {
     "data": {
      "text/plain": [
       "17    0.045139\n",
       "16    0.044891\n",
       "18    0.044420\n",
       "15    0.043850\n",
       "14    0.042933\n",
       "19    0.040355\n",
       "13    0.039041\n",
       "20    0.036513\n",
       "21    0.034356\n",
       "22    0.033935\n",
       "12    0.033761\n",
       "23    0.031109\n",
       "24    0.030688\n",
       "25    0.027812\n",
       "27    0.026251\n",
       "11    0.026226\n",
       "26    0.025507\n",
       "29    0.025036\n",
       "28    0.024763\n",
       "30    0.024540\n",
       "10    0.022309\n",
       "31    0.021913\n",
       "32    0.021070\n",
       "33    0.019731\n",
       "34    0.017872\n",
       "35    0.017376\n",
       "36    0.015443\n",
       "9     0.014749\n",
       "37    0.013708\n",
       "38    0.011774\n",
       "40    0.011006\n",
       "8     0.010956\n",
       "39    0.010436\n",
       "41    0.008948\n",
       "42    0.008651\n",
       "43    0.007883\n",
       "7     0.007759\n",
       "44    0.006643\n",
       "45    0.006371\n",
       "46    0.006321\n",
       "47    0.005007\n",
       "6     0.004858\n",
       "49    0.004611\n",
       "48    0.004511\n",
       "50    0.004264\n",
       "51    0.003421\n",
       "52    0.002975\n",
       "5     0.002851\n",
       "1     0.002702\n",
       "54    0.002429\n",
       "53    0.002256\n",
       "57    0.001859\n",
       "55    0.001834\n",
       "56    0.001810\n",
       "4     0.001165\n",
       "2     0.001140\n",
       "60    0.001091\n",
       "61    0.001091\n",
       "3     0.001091\n",
       "58    0.001041\n",
       "59    0.001016\n",
       "62    0.000843\n",
       "63    0.000768\n",
       "65    0.000570\n",
       "64    0.000397\n",
       "69    0.000322\n",
       "66    0.000273\n",
       "72    0.000223\n",
       "68    0.000223\n",
       "74    0.000198\n",
       "67    0.000174\n",
       "70    0.000124\n",
       "76    0.000124\n",
       "78    0.000099\n",
       "73    0.000099\n",
       "75    0.000074\n",
       "71    0.000074\n",
       "87    0.000050\n",
       "82    0.000050\n",
       "83    0.000050\n",
       "77    0.000050\n",
       "79    0.000050\n",
       "86    0.000050\n",
       "84    0.000025\n",
       "94    0.000025\n",
       "Name: amenities_number, dtype: float64"
      ]
     },
     "execution_count": 5,
     "metadata": {},
     "output_type": "execute_result"
    }
   ],
   "source": [
    "# checking the values\n",
    "\n",
    "Listings_Filtered_V2['amenities_number'].value_counts(normalize = True)"
   ]
  },
  {
   "cell_type": "code",
   "execution_count": 6,
   "metadata": {},
   "outputs": [
    {
     "data": {
      "text/plain": [
       "0.0    0.733828\n",
       "1.0    0.266172\n",
       "Name: host_is_superhost, dtype: float64"
      ]
     },
     "execution_count": 6,
     "metadata": {},
     "output_type": "execute_result"
    }
   ],
   "source": [
    "# checking the values\n",
    "\n",
    "Listings_Filtered_V2['host_is_superhost'].value_counts(normalize = True)"
   ]
  },
  {
   "cell_type": "code",
   "execution_count": 7,
   "metadata": {},
   "outputs": [
    {
     "data": {
      "text/plain": [
       "array([ 95.,  99.,  96.,  nan,  94.,  91.,  98.,  93.,  88.,  97.,  83.,\n",
       "        85., 100.,  84.,  89.,  92.,  86.,  90.,  87.,  80.,  72.,  67.,\n",
       "        82.,  75.,  50.,  81.,  60.,  79.,  78.,  65.,  70.,  55.,  76.,\n",
       "        40.,  73.,  77.,  74.,  37.,  63.,  20.,  66.,  68.,  71.,  30.,\n",
       "        64.,  69.,  52.,  57.,  58.,  53.,  47.,  56.,  33.,  45.])"
      ]
     },
     "execution_count": 7,
     "metadata": {},
     "output_type": "execute_result"
    }
   ],
   "source": [
    "# extracting the datatype\n",
    "\n",
    "Listings_Filtered_V2['review_scores_rating'].unique()"
   ]
  },
  {
   "cell_type": "code",
   "execution_count": 8,
   "metadata": {},
   "outputs": [],
   "source": [
    "# making new column \n",
    "\n",
    "def high_or_not(result):\n",
    "    if result >= 80:\n",
    "        return 1\n",
    "    elif result < 80:\n",
    "        return 1\n",
    "    else:\n",
    "        return 0"
   ]
  },
  {
   "cell_type": "code",
   "execution_count": 9,
   "metadata": {},
   "outputs": [],
   "source": [
    "Listings_Filtered_V2['High'] = Listings_Filtered_V2['review_scores_rating'].apply(high_or_not)"
   ]
  },
  {
   "cell_type": "code",
   "execution_count": 10,
   "metadata": {},
   "outputs": [
    {
     "data": {
      "text/plain": [
       "1    0.830772\n",
       "0    0.169228\n",
       "Name: High, dtype: float64"
      ]
     },
     "execution_count": 10,
     "metadata": {},
     "output_type": "execute_result"
    }
   ],
   "source": [
    "# checking the values\n",
    "\n",
    "Listings_Filtered_V2['High'].value_counts(normalize = True)"
   ]
  },
  {
   "attachments": {},
   "cell_type": "markdown",
   "metadata": {},
   "source": [
    "![Data%20Interpretation.jpg](https://raw.githubusercontent.com/andrewwongls/dsc-5-capstone-project-online-ds-sp-000/master/Data%20Interpretation.jpg)"
   ]
  },
  {
   "cell_type": "markdown",
   "metadata": {},
   "source": [
    "# HYPOTHESIS TESTING"
   ]
  },
  {
   "cell_type": "markdown",
   "metadata": {},
   "source": [
    "Hypothesis testing is used to infer the result of a hypothesis performed on sample data from a larger population. The test tells the analyst whether or not his primary hypothesis is true. Statistical analysts test a hypothesis by measuring and examining a random sample of the population being analysed.\n",
    "\n",
    "**Hypothesis in Science:** Provisional explanation that fits the evidence and can be confirmed or disproved.\n",
    "\n",
    "**Hypothesis in Statistics:** Probabilistic explanation about the presence of a relationship between observations.\n",
    "\n",
    "**Hypothesis in Machine Learning:** Candidate model that approximates a target function for mapping examples of inputs to outputs.\n",
    "\n",
    "\n",
    "\n",
    "**A hypothesis in machine learning:**\n",
    "\n",
    "> Covers the available evidence: the training dataset.\n",
    "\n",
    "> Is falsifiable: a test harness is devised beforehand and used to estimate performance and compare it to a baseline model to see if is skillful or not.\n",
    "\n",
    "> Can be used in new situations: make predictions on new data.\n",
    "\n"
   ]
  },
  {
   "cell_type": "markdown",
   "metadata": {},
   "source": [
    "## **Hypothesis Test 1** High Numbers of Reviews Per Month and High Airbnb Rating  Given to Host\n",
    "\n",
    "> The null hypothesis (H0) states that there is **no relationship between reviews per month and high Airbnb rating given to host.**\n",
    "\n",
    "\n",
    "> The null hypothesis (HA) states that there is **a relationship between high average numbers of reviews per month and high Airbnb rating given to host (one variable has an effect on the other).** It states that the results are not due to chance and that they are significant in terms of supporting the theory being investigated.\n"
   ]
  },
  {
   "cell_type": "code",
   "execution_count": 11,
   "metadata": {},
   "outputs": [
    {
     "data": {
      "text/plain": [
       "6255"
      ]
     },
     "execution_count": 11,
     "metadata": {},
     "output_type": "execute_result"
    }
   ],
   "source": [
    "Listings_Filtered_V2.reviews_per_month.isna().sum()"
   ]
  },
  {
   "cell_type": "code",
   "execution_count": 12,
   "metadata": {},
   "outputs": [
    {
     "data": {
      "text/plain": [
       "0"
      ]
     },
     "execution_count": 12,
     "metadata": {},
     "output_type": "execute_result"
    }
   ],
   "source": [
    "# replace NaN's with value 'false' for not being a superhost\n",
    "\n",
    "Listings_Filtered_V2.reviews_per_month.fillna(value= 0, inplace=True)\n",
    "Listings_Filtered_V2.reviews_per_month.isna().sum()"
   ]
  },
  {
   "cell_type": "code",
   "execution_count": 13,
   "metadata": {},
   "outputs": [
    {
     "data": {
      "text/plain": [
       "1.8766054005669137"
      ]
     },
     "execution_count": 13,
     "metadata": {},
     "output_type": "execute_result"
    }
   ],
   "source": [
    "# averaging reviews per month\n",
    "\n",
    "Listings_Filtered_V2[Listings_Filtered_V2['High'] == 1]['reviews_per_month'].mean()"
   ]
  },
  {
   "cell_type": "code",
   "execution_count": 14,
   "metadata": {},
   "outputs": [
    {
     "data": {
      "image/png": "[encoded data removed]",
      "text/plain": [
       "<Figure size 576x432 with 2 Axes>"
      ]
     },
     "metadata": {
      "needs_background": "light"
     },
     "output_type": "display_data"
    }
   ],
   "source": [
    "fig = plt.figure(figsize = (8, 6))\n",
    "\n",
    "ax1 = plt.subplot(121)\n",
    "Listings_Filtered_V2[Listings_Filtered_V2['High'] == 1]['reviews_per_month'].hist(ax = ax1)\n",
    "ax1.set_title('High Reviews Per Month')\n",
    "\n",
    "ax2 = plt.subplot(122)\n",
    "Listings_Filtered_V2[Listings_Filtered_V2['High'] == 0]['reviews_per_month'].hist(ax = ax2)\n",
    "ax2.set_title('Not So High Reviews Per Month')\n",
    "\n",
    "plt.show()"
   ]
  },
  {
   "cell_type": "code",
   "execution_count": 15,
   "metadata": {},
   "outputs": [
    {
     "data": {
      "text/plain": [
       "1.853254001709436"
      ]
     },
     "execution_count": 15,
     "metadata": {},
     "output_type": "execute_result"
    }
   ],
   "source": [
    "# Finding the average difference in reviews per month\n",
    "\n",
    "original_diff = abs(Listings_Filtered_V2[Listings_Filtered_V2['High'] == 1]['reviews_per_month'].mean() - Listings_Filtered_V2[Listings_Filtered_V2['High'] == 0]['reviews_per_month'].mean())\n",
    "original_diff"
   ]
  },
  {
   "cell_type": "code",
   "execution_count": 16,
   "metadata": {},
   "outputs": [
    {
     "data": {
      "text/plain": [
       "20171.0"
      ]
     },
     "execution_count": 16,
     "metadata": {},
     "output_type": "execute_result"
    }
   ],
   "source": [
    "Listings_Filtered_V2.shape[0] / 2"
   ]
  },
  {
   "cell_type": "code",
   "execution_count": 17,
   "metadata": {},
   "outputs": [],
   "source": [
    "# Splitting the data into 2 random samples and see what the difference.  Repeat this 10,000 times to see how often the \n",
    "\n",
    "my_diffs = []\n",
    "\n",
    "for i in range(10000):\n",
    "    sample_a = Listings_Filtered_V2['reviews_per_month'].sample(int(Listings_Filtered_V2.shape[0]/2))\n",
    "    sample_b = Listings_Filtered_V2.drop(sample_a.index)['reviews_per_month']\n",
    "    diff = abs(np.mean(sample_a) - np.mean(sample_b))\n",
    "    my_diffs.append(diff)"
   ]
  },
  {
   "cell_type": "code",
   "execution_count": 18,
   "metadata": {},
   "outputs": [
    {
     "data": {
      "image/png": "[encoded data removed]",
      "text/plain": [
       "<Figure size 432x288 with 1 Axes>"
      ]
     },
     "metadata": {
      "needs_background": "light"
     },
     "output_type": "display_data"
    }
   ],
   "source": [
    "plt.hist(my_diffs)\n",
    "plt.axvline(original_diff, color = 'k', linewidth = 5)\n",
    "plt.show()"
   ]
  },
  {
   "cell_type": "code",
   "execution_count": 19,
   "metadata": {},
   "outputs": [],
   "source": [
    "my_count = 0\n",
    "for indv_diff in my_diffs:\n",
    "    if indv_diff > original_diff:\n",
    "        my_count += 1"
   ]
  },
  {
   "cell_type": "code",
   "execution_count": 20,
   "metadata": {},
   "outputs": [
    {
     "data": {
      "text/plain": [
       "0.0"
      ]
     },
     "execution_count": 20,
     "metadata": {},
     "output_type": "execute_result"
    }
   ],
   "source": [
    "my_count / len(my_diffs)"
   ]
  },
  {
   "cell_type": "markdown",
   "metadata": {},
   "source": [
    "**T-TEST INTERPRETING HYPOTHESIS 1 T-TEST**\n",
    "\n",
    "When you perform a statistical test a *p-value helps you determine the significance of your results in relation to the null hypothesis.*\n",
    "\n",
    "In performing a hypothesis test in statistics, a p-value determine the significance of results. If the p-value is a number between 0 and 1 and interpreted in the following way: A small p-value (typically ≤ 0.05) indicates strong evidence against the null hypothesis, so you reject the null hypothesis, and accept the alternative hypothesis.\n",
    "\n",
    "However, this does not mean that there is a 95% probability that the research hypothesis is true. The p-value is conditional upon the null hypothesis being true is unrelated to the truth or falsity of the research hypothesis.\n",
    "\n",
    "> The Hypothesis 1 T-Test below indicates a low p-value (*p* < .001). A p-value less than 0.05 (typically ≤ 0.05) is statistically significant. It indicates strong evidence against the null hypothesis, as there is less than a 5% probability the null is correct (and the results are random). Therefore, we reject the null hypothesis, and accept the alternative hypothesis.Therefore we REJECT NULL HYPOTHESIS. "
   ]
  },
  {
   "cell_type": "code",
   "execution_count": 21,
   "metadata": {},
   "outputs": [
    {
     "data": {
      "text/plain": [
       "Ttest_indResult(statistic=77.58387739693124, pvalue=0.0)"
      ]
     },
     "execution_count": 21,
     "metadata": {},
     "output_type": "execute_result"
    }
   ],
   "source": [
    "stats.ttest_ind(Listings_Filtered_V2.dropna()['High'], Listings_Filtered_V2.dropna()['reviews_per_month'])\n",
    "ttest_ind(Listings_Filtered_V2[Listings_Filtered_V2['High'] == 1]['reviews_per_month'], Listings_Filtered_V2[Listings_Filtered_V2['High'] == 0]['reviews_per_month'])"
   ]
  },
  {
   "cell_type": "markdown",
   "metadata": {},
   "source": [
    "**WELCH'S T-TEST**\n",
    "\n",
    "> The Hypothesis 1 Welch's T-Test below indicates a low p-value. A p-value less than 0.05 (typically ≤ 0.05) is statistically significant. It indicates strong evidence against the null hypothesis, as there is less than a 5% probability the null is correct (and the results are random). Therefore, we reject the null hypothesis, and accept the alternative hypothesis.Therefore we REJECT NULL HYPOTHESIS."
   ]
  },
  {
   "cell_type": "code",
   "execution_count": 22,
   "metadata": {},
   "outputs": [
    {
     "data": {
      "text/plain": [
       "Ttest_indResult(statistic=169.58786697136577, pvalue=0.0)"
      ]
     },
     "execution_count": 22,
     "metadata": {},
     "output_type": "execute_result"
    }
   ],
   "source": [
    "# running welch's t-test\n",
    "\n",
    "stats.ttest_ind(Listings_Filtered_V2[Listings_Filtered_V2['High'] == 1]['reviews_per_month'], Listings_Filtered_V2[Listings_Filtered_V2['High'] == 0]['reviews_per_month'], equal_var=False)"
   ]
  },
  {
   "cell_type": "markdown",
   "metadata": {},
   "source": [
    "**EFFECT SIZE (COHEN'S d)**\n",
    "Cohen suggested that:\n",
    "\n",
    "d=0.2 be considered a 'small' effect size\n",
    "\n",
    "d=0.5 represents a 'medium' effect size\n",
    "\n",
    "d=0.8 a 'large' effect size.\n",
    "\n",
    "This means that if two groups' means don't differ by 0.2 standard deviations or more, the difference is trivial, even if it is statistically significant.\n",
    "\n",
    "The positive (+) or negative (-) sign of Cohen's d depends on which sample means that we label for experimental group (C1), and control group (C2), then a negative effect size indicates the effect decreases your mean, and a positive effect size indicates that the effect increases your mean. If C1 is bigger than C2, your effect size will be positive. If the C2 mean is larger than C1, then the effect size will be negative. In short, the sign of Cohen’s d effect tells you the direction of the effect.\n",
    "\n",
    "The p-value is not enough\n",
    "A lower p-value is sometimes interpreted as meaning there is a stronger relationship between two variables. However, statistical significance means that it is unlikely that the null hypothesis is true (less than 5%).\n",
    "\n",
    "Therefore, a significant p-value tells us that an intervention works, whereas an effect size tells us how much it works.\n",
    "It can be argued that emphasizing the size of effect promotes a more scientific approach, as unlike significance tests, effect size is independent of sample size.\n",
    "\n",
    "> The Hypothesis 1 Effect Size (Cohen's d) below indicates a higher than 0.8 d-value. Therefore, we can conclude that the effect size is very large."
   ]
  },
  {
   "cell_type": "code",
   "execution_count": 23,
   "metadata": {},
   "outputs": [
    {
     "data": {
      "text/plain": [
       "1.0301960632727416"
      ]
     },
     "execution_count": 23,
     "metadata": {},
     "output_type": "execute_result"
    }
   ],
   "source": [
    "# running effect size calculation\n",
    "\n",
    "def cohens_d(group1, group2):\n",
    "    numer = group1.mean() - group2.mean()\n",
    "    n1, n2 = len(group1), len(group2)\n",
    "    var1, var2 = group1.var(), group2.var()\n",
    "    pooled_var = (n1 * var1 + n2 * var2) / (n1 + n2)\n",
    "    denom = np.sqrt(pooled_var)\n",
    "    return numer / denom\n",
    "cohens_d(Listings_Filtered_V2[Listings_Filtered_V2['High'] == 1]['reviews_per_month'], Listings_Filtered_V2[Listings_Filtered_V2['High'] == 0]['reviews_per_month'])"
   ]
  },
  {
   "cell_type": "markdown",
   "metadata": {},
   "source": [
    "### Outcome Hypothesis Test 1 Average Reviews Per Month and High Rating Given to Airbnb Host\n",
    "\n",
    ">**T-Test:** Statistically significant with a p < .001. Therefore, we reject the null hypothesis, and accept the alternative hypothesis.\n",
    "\n",
    ">**Welch's T-Test:** Statistically significant with a p < .001. Therefore, we reject the null hypothesis, and accept the alternative hypothesis.\n",
    "\n",
    ">**Cohen Effect Size:** High effect size with a 1.03."
   ]
  },
  {
   "cell_type": "markdown",
   "metadata": {},
   "source": [
    "## **Hypothesis Test 2** High Amenities Numbers and High Airbnb Rating  Given to Host"
   ]
  },
  {
   "cell_type": "markdown",
   "metadata": {},
   "source": [
    "> The null hypothesis (H0) states that there is **no relationship between high average numbers of reviews per month and high amenities numbers.**\n",
    "\n",
    "\n",
    "> The null hypothesis (HA) states that there is **a relationship between high average numbers of reviews per month and high amenities numbers (one variable has an effect on the other).** It states that the results are not due to chance and that they are significant in terms of supporting the theory being investigated.\n"
   ]
  },
  {
   "cell_type": "code",
   "execution_count": 24,
   "metadata": {},
   "outputs": [
    {
     "data": {
      "text/plain": [
       "25.165239445024614"
      ]
     },
     "execution_count": 24,
     "metadata": {},
     "output_type": "execute_result"
    }
   ],
   "source": [
    "# averaging numbers of amenities that would vote for high airbnb rating goven to host\n",
    "\n",
    "Listings_Filtered_V2[Listings_Filtered_V2['High'] == 1]['amenities_number'].mean()"
   ]
  },
  {
   "cell_type": "code",
   "execution_count": 25,
   "metadata": {},
   "outputs": [
    {
     "data": {
      "image/png": "[encoded data removed]",
      "text/plain": [
       "<Figure size 576x432 with 2 Axes>"
      ]
     },
     "metadata": {
      "needs_background": "light"
     },
     "output_type": "display_data"
    }
   ],
   "source": [
    "fig = plt.figure(figsize = (8, 6))\n",
    "\n",
    "ax1 = plt.subplot(121)\n",
    "Listings_Filtered_V2[Listings_Filtered_V2['High'] == 1]['amenities_number'].hist(ax = ax1)\n",
    "ax1.set_title('High Amenities')\n",
    "\n",
    "ax2 = plt.subplot(122)\n",
    "Listings_Filtered_V2[Listings_Filtered_V2['High'] == 0]['amenities_number'].hist(ax = ax2)\n",
    "ax2.set_title('Not So High Amenities')\n",
    "\n",
    "plt.show()"
   ]
  },
  {
   "cell_type": "code",
   "execution_count": 26,
   "metadata": {},
   "outputs": [
    {
     "data": {
      "text/plain": [
       "7.9406898624846995"
      ]
     },
     "execution_count": 26,
     "metadata": {},
     "output_type": "execute_result"
    }
   ],
   "source": [
    "# Finding the average difference in number of amenities\n",
    "\n",
    "original_diff = abs(Listings_Filtered_V2[Listings_Filtered_V2['High'] == 1]['amenities_number'].mean() - Listings_Filtered_V2[Listings_Filtered_V2['High'] == 0]['amenities_number'].mean())\n",
    "original_diff"
   ]
  },
  {
   "cell_type": "code",
   "execution_count": 27,
   "metadata": {},
   "outputs": [
    {
     "data": {
      "text/plain": [
       "20171.0"
      ]
     },
     "execution_count": 27,
     "metadata": {},
     "output_type": "execute_result"
    }
   ],
   "source": [
    "Listings_Filtered_V2.shape[0] / 2"
   ]
  },
  {
   "cell_type": "code",
   "execution_count": 28,
   "metadata": {},
   "outputs": [],
   "source": [
    "# Splitting the data into 2 random samples and see what the difference.  Repeat this 10,000 times to see how often the \n",
    "# difference is greater than 1.2 (my original difference)\n",
    "\n",
    "my_diffs = []\n",
    "\n",
    "for i in range(10000):\n",
    "    sample_a = Listings_Filtered_V2['amenities_number'].sample(int(Listings_Filtered_V2.shape[0]/2))\n",
    "    sample_b = Listings_Filtered_V2.drop(sample_a.index)['amenities_number']\n",
    "    diff = abs(np.mean(sample_a) - np.mean(sample_b))\n",
    "    my_diffs.append(diff)"
   ]
  },
  {
   "cell_type": "code",
   "execution_count": 29,
   "metadata": {},
   "outputs": [
    {
     "data": {
      "image/png": "[encoded data removed]",
      "text/plain": [
       "<Figure size 432x288 with 1 Axes>"
      ]
     },
     "metadata": {
      "needs_background": "light"
     },
     "output_type": "display_data"
    }
   ],
   "source": [
    "plt.hist(my_diffs)\n",
    "plt.axvline(original_diff, color = 'k', linewidth = 5)\n",
    "plt.show()"
   ]
  },
  {
   "cell_type": "code",
   "execution_count": 30,
   "metadata": {},
   "outputs": [],
   "source": [
    "my_count = 0\n",
    "for indv_diff in my_diffs:\n",
    "    if indv_diff > original_diff:\n",
    "        my_count += 1"
   ]
  },
  {
   "cell_type": "code",
   "execution_count": 31,
   "metadata": {},
   "outputs": [
    {
     "data": {
      "text/plain": [
       "0.0"
      ]
     },
     "execution_count": 31,
     "metadata": {},
     "output_type": "execute_result"
    }
   ],
   "source": [
    "my_count / len(my_diffs)"
   ]
  },
  {
   "cell_type": "markdown",
   "metadata": {},
   "source": [
    "**T-TEST INTERPRETING HYPOTHESIS 2 T-TEST**\n",
    "\n",
    "When you perform a statistical test a *p-value helps you determine the significance of your results in relation to the null hypothesis.*\n",
    "\n",
    "In performing a hypothesis test in statistics, a p-value determine the significance of results. If the p-value is a number between 0 and 1 and interpreted in the following way: A small p-value (typically ≤ 0.05) indicates strong evidence against the null hypothesis, so you reject the null hypothesis, and accept the alternative hypothesis.\n",
    "\n",
    "However, this does not mean that there is a 95% probability that the research hypothesis is true. The p-value is conditional upon the null hypothesis being true is unrelated to the truth or falsity of the research hypothesis.\n",
    "\n",
    "> The Hypothesis 2 T-Test below indicates a low p-value (*p* < .001). A p-value less than 0.05 (typically ≤ 0.05) is statistically significant. It indicates strong evidence against the null hypothesis, as there is less than a 5% probability the null is correct (and the results are random). Therefore, we reject the null hypothesis, and accept the alternative hypothesis.Therefore we REJECT NULL HYPOTHESIS. "
   ]
  },
  {
   "cell_type": "code",
   "execution_count": 32,
   "metadata": {},
   "outputs": [
    {
     "data": {
      "text/plain": [
       "Ttest_indResult(statistic=54.71672262500067, pvalue=0.0)"
      ]
     },
     "execution_count": 32,
     "metadata": {},
     "output_type": "execute_result"
    }
   ],
   "source": [
    "stats.ttest_ind(Listings_Filtered_V2.dropna()['High'], Listings_Filtered_V2.dropna()['amenities_number'])\n",
    "ttest_ind(Listings_Filtered_V2[Listings_Filtered_V2['High'] == 1]['amenities_number'], Listings_Filtered_V2[Listings_Filtered_V2['High'] == 0]['amenities_number'])"
   ]
  },
  {
   "cell_type": "markdown",
   "metadata": {},
   "source": [
    "**WELCH'S T-TEST**\n",
    "\n",
    "> The Hypothesis 2 Welch's T-Test below indicates a low p-value. A p-value less than 0.05 (typically ≤ 0.05) is statistically significant. It indicates strong evidence against the null hypothesis, as there is less than a 5% probability the null is correct (and the results are random). Therefore, we reject the null hypothesis, and accept the alternative hypothesis.Therefore we REJECT NULL HYPOTHESIS."
   ]
  },
  {
   "cell_type": "code",
   "execution_count": 33,
   "metadata": {},
   "outputs": [
    {
     "data": {
      "text/plain": [
       "Ttest_indResult(statistic=65.34540167227794, pvalue=0.0)"
      ]
     },
     "execution_count": 33,
     "metadata": {},
     "output_type": "execute_result"
    }
   ],
   "source": [
    "# running welch's t-test\n",
    "\n",
    "stats.ttest_ind(Listings_Filtered_V2[Listings_Filtered_V2['High'] == 1]['amenities_number'], Listings_Filtered_V2[Listings_Filtered_V2['High'] == 0]['amenities_number'], equal_var=False)"
   ]
  },
  {
   "cell_type": "markdown",
   "metadata": {},
   "source": [
    "**EFFECT SIZE (COHEN'S d)**\n",
    "Cohen suggested that:\n",
    "\n",
    "d=0.2 be considered a 'small' effect size\n",
    "\n",
    "d=0.5 represents a 'medium' effect size\n",
    "\n",
    "d=0.8 a 'large' effect size.\n",
    "\n",
    "This means that if two groups' means don't differ by 0.2 standard deviations or more, the difference is trivial, even if it is statistically significant.\n",
    "\n",
    "The positive (+) or negative (-) sign of Cohen's d depends on which sample means that we label for experimental group (C1), and control group (C2), then a negative effect size indicates the effect decreases your mean, and a positive effect size indicates that the effect increases your mean. If C1 is bigger than C2, your effect size will be positive. If the C2 mean is larger than C1, then the effect size will be negative. In short, the sign of Cohen’s d effect tells you the direction of the effect.\n",
    "\n",
    "The p-value is not enough\n",
    "A lower p-value is sometimes interpreted as meaning there is a stronger relationship between two variables. However, statistical significance means that it is unlikely that the null hypothesis is true (less than 5%).\n",
    "\n",
    "Therefore, a significant p-value tells us that an intervention works, whereas an effect size tells us how much it works.\n",
    "It can be argued that emphasizing the size of effect promotes a more scientific approach, as unlike significance tests, effect size is independent of sample size.\n",
    "\n",
    "> The Hypothesis 2 Effect Size (Cohen's d) below indicates a higher than 0.7 d-value. Therefore, we can conclude that the effect size is medium (inching toward large)."
   ]
  },
  {
   "cell_type": "code",
   "execution_count": 34,
   "metadata": {},
   "outputs": [
    {
     "data": {
      "text/plain": [
       "0.7265505475219172"
      ]
     },
     "execution_count": 34,
     "metadata": {},
     "output_type": "execute_result"
    }
   ],
   "source": [
    "# running effect size calculation\n",
    "\n",
    "def cohens_d(group1, group2):\n",
    "    numer = group1.mean() - group2.mean()\n",
    "    n1, n2 = len(group1), len(group2)\n",
    "    var1, var2 = group1.var(), group2.var()\n",
    "    pooled_var = (n1 * var1 + n2 * var2) / (n1 + n2)\n",
    "    denom = np.sqrt(pooled_var)\n",
    "    return numer / denom\n",
    "cohens_d(Listings_Filtered_V2[Listings_Filtered_V2['High'] == 1]['amenities_number'], Listings_Filtered_V2[Listings_Filtered_V2['High'] == 0]['amenities_number'])"
   ]
  },
  {
   "cell_type": "markdown",
   "metadata": {},
   "source": [
    "### Outcome Hypothesis Test 2 Average Number of Amenities and High Rating Given to Airbnb Host\n",
    "\n",
    ">**T-Test:** Statistically significant with a p < .001. Therefore, we reject the null hypothesis, and accept the alternative hypothesis.\n",
    "\n",
    ">**Welch's T-Test:** Statistically significant with a p < .001. Therefore, we reject the null hypothesis, and accept the alternative hypothesis.\n",
    "\n",
    ">**Cohen Effect Size:** Medium effect size with a 0.7."
   ]
  },
  {
   "cell_type": "markdown",
   "metadata": {},
   "source": [
    "## **Hypothesis Test 3** Host is a Superhost and High Airbnb Rating  Given to Host"
   ]
  },
  {
   "cell_type": "markdown",
   "metadata": {},
   "source": [
    "> The null hypothesis (H0) states that there is **no relationship between high average numbers of reviews per month and host is a superhost.**\n",
    "\n",
    "\n",
    "> The null hypothesis (HA) states that there is **a relationship between high average numbers of reviews per month and host is a superhost. (one variable has an effect on the other).** It states that the results are not due to chance and that they are significant in terms of supporting the theory being investigated.\n"
   ]
  },
  {
   "cell_type": "code",
   "execution_count": 49,
   "metadata": {},
   "outputs": [
    {
     "data": {
      "text/plain": [
       "0"
      ]
     },
     "execution_count": 49,
     "metadata": {},
     "output_type": "execute_result"
    }
   ],
   "source": [
    "Listings_Filtered_V2.host_is_superhost.isna().sum()"
   ]
  },
  {
   "cell_type": "code",
   "execution_count": 50,
   "metadata": {},
   "outputs": [
    {
     "data": {
      "text/plain": [
       "0"
      ]
     },
     "execution_count": 50,
     "metadata": {},
     "output_type": "execute_result"
    }
   ],
   "source": [
    "# replace NaN's with value 'false' for not being a superhost\n",
    "\n",
    "Listings_Filtered_V2.host_is_superhost.fillna(value= 0, inplace=True)\n",
    "Listings_Filtered_V2.host_is_superhost.isna().sum()"
   ]
  },
  {
   "cell_type": "code",
   "execution_count": 51,
   "metadata": {},
   "outputs": [
    {
     "data": {
      "text/plain": [
       "host_is_superhost  High\n",
       "0.0                1       23113\n",
       "                   0        6498\n",
       "1.0                1       10402\n",
       "                   0         329\n",
       "Name: High, dtype: int64"
      ]
     },
     "execution_count": 51,
     "metadata": {},
     "output_type": "execute_result"
    }
   ],
   "source": [
    "# checking the values\n",
    "\n",
    "Listings_Filtered_V2.groupby('host_is_superhost')['High'].value_counts()"
   ]
  },
  {
   "cell_type": "code",
   "execution_count": 52,
   "metadata": {},
   "outputs": [],
   "source": [
    "table = [[23095, 6490], [10402, 329]]"
   ]
  },
  {
   "cell_type": "code",
   "execution_count": 53,
   "metadata": {},
   "outputs": [
    {
     "data": {
      "text/plain": [
       "(1994.1412339107135, 0.0, 1, array([[24581.02849985,  5003.97150015],\n",
       "        [ 8915.97150015,  1815.02849985]]))"
      ]
     },
     "execution_count": 53,
     "metadata": {},
     "output_type": "execute_result"
    }
   ],
   "source": [
    "chi2_contingency(table)"
   ]
  },
  {
   "cell_type": "markdown",
   "metadata": {},
   "source": [
    "**T-TEST INTERPRETING HYPOTHESIS 3 T-TEST**\n",
    "\n",
    "When you perform a statistical test a *p-value helps you determine the significance of your results in relation to the null hypothesis.*\n",
    "\n",
    "In performing a hypothesis test in statistics, a p-value determine the significance of results. If the p-value is a number between 0 and 1 and interpreted in the following way: A small p-value (typically ≤ 0.05) indicates strong evidence against the null hypothesis, so you reject the null hypothesis, and accept the alternative hypothesis.\n",
    "\n",
    "However, this does not mean that there is a 95% probability that the research hypothesis is true. The p-value is conditional upon the null hypothesis being true is unrelated to the truth or falsity of the research hypothesis.\n",
    "\n",
    "> The Hypothesis 3 T-Test below indicates a low p-value (*p* < .001). A p-value less than 0.05 (typically ≤ 0.05) is statistically significant. It indicates strong evidence against the null hypothesis, as there is less than a 5% probability the null is correct (and the results are random). Therefore, we reject the null hypothesis, and accept the alternative hypothesis.Therefore we REJECT NULL HYPOTHESIS. "
   ]
  },
  {
   "cell_type": "code",
   "execution_count": 55,
   "metadata": {},
   "outputs": [
    {
     "data": {
      "text/plain": [
       "Ttest_indResult(statistic=45.83256942503548, pvalue=0.0)"
      ]
     },
     "execution_count": 55,
     "metadata": {},
     "output_type": "execute_result"
    }
   ],
   "source": [
    "stats.ttest_ind(Listings_Filtered_V2.dropna()['High'], Listings_Filtered_V2.dropna()['host_is_superhost'])\n",
    "ttest_ind(Listings_Filtered_V2[Listings_Filtered_V2['High'] == 1]['host_is_superhost'], Listings_Filtered_V2[Listings_Filtered_V2['High'] == 0]['host_is_superhost'])"
   ]
  },
  {
   "cell_type": "markdown",
   "metadata": {},
   "source": [
    "**WELCH'S T-TEST**\n",
    "\n",
    "> The Hypothesis 3 Welch's T-Test below indicates a low p-value. A p-value less than 0.05 (typically ≤ 0.05) is statistically significant. It indicates strong evidence against the null hypothesis, as there is less than a 5% probability the null is correct (and the results are random). Therefore, we reject the null hypothesis, and accept the alternative hypothesis.Therefore we REJECT NULL HYPOTHESIS."
   ]
  },
  {
   "cell_type": "code",
   "execution_count": 54,
   "metadata": {},
   "outputs": [
    {
     "data": {
      "text/plain": [
       "Ttest_indResult(statistic=72.41953689099522, pvalue=0.0)"
      ]
     },
     "execution_count": 54,
     "metadata": {},
     "output_type": "execute_result"
    }
   ],
   "source": [
    "# running welch's t-test\n",
    "\n",
    "stats.ttest_ind(Listings_Filtered_V2[Listings_Filtered_V2['High'] == 1]['host_is_superhost'], Listings_Filtered_V2[Listings_Filtered_V2['High'] == 0]['host_is_superhost'], equal_var=False)"
   ]
  },
  {
   "cell_type": "markdown",
   "metadata": {},
   "source": [
    "**EFFECT SIZE (COHEN'S d)**\n",
    "Cohen suggested that:\n",
    "\n",
    "d=0.2 be considered a 'small' effect size\n",
    "\n",
    "d=0.5 represents a 'medium' effect size\n",
    "\n",
    "d=0.8 a 'large' effect size.\n",
    "\n",
    "This means that if two groups' means don't differ by 0.2 standard deviations or more, the difference is trivial, even if it is statistically significant.\n",
    "\n",
    "The positive (+) or negative (-) sign of Cohen's d depends on which sample means that we label for experimental group (C1), and control group (C2), then a negative effect size indicates the effect decreases your mean, and a positive effect size indicates that the effect increases your mean. If C1 is bigger than C2, your effect size will be positive. If the C2 mean is larger than C1, then the effect size will be negative. In short, the sign of Cohen’s d effect tells you the direction of the effect.\n",
    "\n",
    "The p-value is not enough\n",
    "A lower p-value is sometimes interpreted as meaning there is a stronger relationship between two variables. However, statistical significance means that it is unlikely that the null hypothesis is true (less than 5%).\n",
    "\n",
    "Therefore, a significant p-value tells us that an intervention works, whereas an effect size tells us how much it works.\n",
    "It can be argued that emphasizing the size of effect promotes a more scientific approach, as unlike significance tests, effect size is independent of sample size.\n",
    "\n",
    "> The Hypothesis 3 Effect Size (Cohen's d) below indicates a higher than 0.6 d-value. Therefore, we can conclude that the effect size is large."
   ]
  },
  {
   "cell_type": "code",
   "execution_count": 56,
   "metadata": {},
   "outputs": [
    {
     "data": {
      "text/plain": [
       "0.6085854723569403"
      ]
     },
     "execution_count": 56,
     "metadata": {},
     "output_type": "execute_result"
    }
   ],
   "source": [
    "# running effect size calculation\n",
    "\n",
    "def cohens_d(group1, group2):\n",
    "    numer = group1.mean() - group2.mean()\n",
    "    n1, n2 = len(group1), len(group2)\n",
    "    var1, var2 = group1.var(), group2.var()\n",
    "    pooled_var = (n1 * var1 + n2 * var2) / (n1 + n2)\n",
    "    denom = np.sqrt(pooled_var)\n",
    "    return numer / denom\n",
    "cohens_d(Listings_Filtered_V2[Listings_Filtered_V2['High'] == 1]['host_is_superhost'], Listings_Filtered_V2[Listings_Filtered_V2['High'] == 0]['host_is_superhost'])"
   ]
  },
  {
   "cell_type": "markdown",
   "metadata": {},
   "source": [
    "### Outcome Hypothesis Test 3 Host is a Superhost and High Rating Given to Airbnb Host\n",
    "\n",
    ">**T-Test:** Statistically significant with a p < .001. Therefore, we reject the null hypothesis, and accept the alternative hypothesis.\n",
    "\n",
    ">**Welch's T-Test:** Statistically significant with a p < .001. Therefore, we reject the null hypothesis, and accept the alternative hypothesis.\n",
    "\n",
    ">**Cohen Effect Size:** Medium effect size with a 0.6."
   ]
  },
  {
   "cell_type": "markdown",
   "metadata": {},
   "source": [
    "# CONCLUSION"
   ]
  },
  {
   "cell_type": "markdown",
   "metadata": {},
   "source": [
    "**When you perform a statistical test a p-value helps you determine the significance of your results in relation to the null hypothesis.**\n",
    "\n",
    "> All the three Hypothesis Testing results are statistically significant at *p* < .001. Therefore, we reject the null hypothesis, and accept the alternative hypothesis. \n",
    "\n",
    "**Cohen suggested that d=0.2 be considered a 'small' effect size, 0.5 represents a 'medium' effect size and 0.8 a 'large' effect size. This means that if two groups' means don't differ by 0.2 standard deviations or more, the difference is trivial, even if it is statistically significant.**\n",
    "\n",
    "> Two hypothesis tests have medium effect size, and one hypothesis test has large effect size.\n",
    "\n",
    "Effect size is a quantitative measure of the magnitude of the experimenter effect. The larger the effect size the stronger the relationship between two variables.\n"
   ]
  },
  {
   "cell_type": "markdown",
   "metadata": {},
   "source": [
    "# LIMITATION AND FUTURE SCOPE"
   ]
  },
  {
   "cell_type": "markdown",
   "metadata": {},
   "source": [
    "There is still a lot of debate between statistical significance, and *p* value.  This Jupyter Notebook Project briefly touched on this subject.\n",
    "\n",
    "### **LIMITATION**\n",
    "\n",
    "This Jupyter Notebook Project touched on just top three influential / predictors of high host ratings. If time permits, a more rigourous hypothesis testing exercise and the interpretation of other influential / predictors will be beneficial.\n",
    "\n",
    "### **FUTURE SCOPE**\n",
    "\n",
    "1. Hypothesis testing on low host rating - understanding the negatives provide more opportunities to think about areas for improvement. \n",
    "\n",
    "2. In other Jupyter Notebook Project, I touched on the difference of three cities (i.e. Dublin, Edinburgh, and Melbourne). It will be interesting to conduct hypothesis testing on the difference among these three UNESCO Cities of Literature. \n",
    "\n",
    "3. Explore the business value / interpretation of these hypothesis testing outcome. Asking the so-what question, and later answering the so-what questions. \n",
    "\n"
   ]
  },
  {
   "cell_type": "markdown",
   "metadata": {},
   "source": [
    "# POCKET GUIDEBOOK\n",
    "\n",
    "In the Medium Blog search for: \n",
    "\n",
    "1. Andrew Wong + How to better design data differentiator to solve heard problem.\n",
    "\n",
    "2. Andrew Wong + How to sell your data insights to broader stakeholders."
   ]
  },
  {
   "cell_type": "markdown",
   "metadata": {},
   "source": [
    "**Thank you for reading this Jupyter Notebook. Feedback is welcome, please email at andrewwongls@outlook.com**"
   ]
  }
 ],
 "metadata": {
  "kernelspec": {
   "display_name": "learn-env",
   "language": "python",
   "name": "learn-env"
  },
  "language_info": {
   "codemirror_mode": {
    "name": "ipython",
    "version": 3
   },
   "file_extension": ".py",
   "mimetype": "text/x-python",
   "name": "python",
   "nbconvert_exporter": "python",
   "pygments_lexer": "ipython3",
   "version": "3.7.1"
  }
 },
 "nbformat": 4,
 "nbformat_minor": 2
}
